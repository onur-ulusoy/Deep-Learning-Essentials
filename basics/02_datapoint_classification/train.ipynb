{
 "cells": [
  {
   "cell_type": "code",
   "execution_count": 1,
   "metadata": {},
   "outputs": [],
   "source": [
    "from spiral_datapoint import SpiralData\n",
    "import numpy as np\n",
    "from nn import NN\n",
    "from nn_torch import NN_torch\n",
    "from animation import AnimateTraining\n",
    "\n",
    "np.random.seed(42)"
   ]
  },
  {
   "cell_type": "code",
   "execution_count": 2,
   "metadata": {},
   "outputs": [],
   "source": [
    "np.random.seed(42)\n",
    "# Create an instance of SpiralData\n",
    "train_data = SpiralData(num_points=250, noise=0.2, revolutions=4)\n",
    "train_data.generate_data()\n",
    "#train_data.plot_data()"
   ]
  },
  {
   "cell_type": "code",
   "execution_count": 3,
   "metadata": {},
   "outputs": [],
   "source": [
    "# Get the coordinates\n",
    "(x1, y1), (x2, y2) = train_data.get_coordinates()\n",
    "\n",
    "# X is a vstack of points, y is 1dim array of labels, 0 is blue and 1 is red\n",
    "X,y = train_data.get_labeled_data() \n",
    "y = y.reshape(-1, 1)\n",
    "\n",
    "# X.shape is (500,2)\n",
    "# y.shape is (500,1)"
   ]
  },
  {
   "cell_type": "code",
   "execution_count": 4,
   "metadata": {},
   "outputs": [],
   "source": [
    "# Neural Network Architecture\n",
    "input_size = 2\n",
    "hidden1_size = 18\n",
    "hidden2_size = 4\n",
    "output_size = 1"
   ]
  },
  {
   "cell_type": "code",
   "execution_count": null,
   "metadata": {},
   "outputs": [],
   "source": [
    "# Train hand-made NN \n",
    "\n",
    "network = NN(input_size, hidden1_size, hidden2_size, output_size, learning_rate=0.001)\n",
    "animator = AnimateTraining(network, X, y, real_time=False)\n",
    "\n",
    "# Perform training and animate the process\n",
    "animator.animate(epochs=1000, interval=100)"
   ]
  },
  {
   "cell_type": "code",
   "execution_count": null,
   "metadata": {},
   "outputs": [],
   "source": [
    "# Train torch NN\n",
    "network = NN_torch(input_size, hidden1_size, hidden2_size, output_size, learning_rate=0.1)\n",
    "\n",
    "network.train_model(X,y,epochs=10000)"
   ]
  },
  {
   "cell_type": "code",
   "execution_count": null,
   "metadata": {},
   "outputs": [],
   "source": [
    "# Test hand-made NN \n",
    "from tester import ModelTester\n",
    "\n",
    "tester = ModelTester(input_size, hidden1_size, hidden2_size, output_size, draw_numbers=True)\n",
    "tester.load_model()\n",
    "tester.run_test()"
   ]
  },
  {
   "cell_type": "code",
   "execution_count": null,
   "metadata": {},
   "outputs": [],
   "source": [
    "# Test torch NN \n",
    "from tester import ModelTesterTorch\n",
    "\n",
    "tester_torch = ModelTesterTorch(input_size, hidden1_size, hidden2_size, output_size, draw_numbers=True)\n",
    "tester_torch.load_model()\n",
    "tester_torch.run_test()"
   ]
  }
 ],
 "metadata": {
  "kernelspec": {
   "display_name": "venv",
   "language": "python",
   "name": "python3"
  },
  "language_info": {
   "codemirror_mode": {
    "name": "ipython",
    "version": 3
   },
   "file_extension": ".py",
   "mimetype": "text/x-python",
   "name": "python",
   "nbconvert_exporter": "python",
   "pygments_lexer": "ipython3",
   "version": "3.10.9"
  }
 },
 "nbformat": 4,
 "nbformat_minor": 2
}
