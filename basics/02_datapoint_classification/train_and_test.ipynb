{
 "cells": [
  {
   "cell_type": "code",
   "execution_count": 1,
   "metadata": {},
   "outputs": [],
   "source": [
    "from spiral_datapoint import SpiralData\n",
    "import numpy as np\n",
    "from nn import NN\n",
    "from nn_torch import NN_torch\n",
    "from animation import AnimateTraining\n",
    "import torch\n",
    "\n",
    "np.random.seed(42)\n",
    "\n",
    "# Create an instance of SpiralData\n",
    "train_data = SpiralData(num_points=250, noise=0.2, revolutions=4)\n",
    "train_data.generate_data()\n",
    "#train_data.plot_data()\n",
    "\n",
    "# Get the coordinates\n",
    "(x1, y1), (x2, y2) = train_data.get_coordinates()\n",
    "\n",
    "# X is a vstack of points, y is 1dim array of labels, 0 is blue and 1 is red\n",
    "X,y = train_data.get_labeled_data() \n",
    "y = y.reshape(-1, 1)\n",
    "\n",
    "# X.shape is (500,2)\n",
    "# y.shape is (500,1)\n",
    "\n",
    "# Neural Network Architecture\n",
    "input_size = 2\n",
    "hidden1_size = 18\n",
    "hidden2_size = 4\n",
    "output_size = 1"
   ]
  },
  {
   "cell_type": "code",
   "execution_count": null,
   "metadata": {},
   "outputs": [],
   "source": [
    "# Train and plot hand-made NN \n",
    "np.random.seed(42)\n",
    "network = NN(input_size, hidden1_size, hidden2_size, output_size, learning_rate=0.1)\n",
    "animator = AnimateTraining(network, X, y, real_time=False)\n",
    "\n",
    "# Perform training and animate the process\n",
    "animator.animate(epochs=1000, interval=100)"
   ]
  },
  {
   "cell_type": "code",
   "execution_count": 13,
   "metadata": {},
   "outputs": [
    {
     "name": "stdout",
     "output_type": "stream",
     "text": [
      "W1 shape:  (2, 18)\n",
      "b1 shape:  (1, 18)\n",
      "W2 shape:  (18, 4)\n",
      "b2 shape:  (1, 4)\n",
      "W3 shape:  (4, 1)\n",
      "b3 shape:  (1, 1)\n",
      "Epoch 0, Loss: 1.3167\n",
      "Epoch 100, Loss: 5.9794\n",
      "Epoch 200, Loss: 5.8433\n",
      "Epoch 300, Loss: 7.5969\n",
      "Epoch 400, Loss: nan\n",
      "Epoch 500, Loss: nan\n",
      "Epoch 600, Loss: nan\n",
      "Epoch 700, Loss: nan\n",
      "Epoch 800, Loss: nan\n",
      "Epoch 900, Loss: nan\n"
     ]
    }
   ],
   "source": [
    "# Train hand-made NN\n",
    "np.random.seed(42)\n",
    "network = NN(input_size, hidden1_size, hidden2_size, output_size, learning_rate=0.1)\n",
    "\n",
    "network.train(X, y, epochs=1000)"
   ]
  },
  {
   "cell_type": "code",
   "execution_count": 17,
   "metadata": {},
   "outputs": [
    {
     "name": "stdout",
     "output_type": "stream",
     "text": [
      "Epoch 0, Loss: 0.7187\n",
      "Epoch 100, Loss: 0.6684\n",
      "Epoch 200, Loss: 0.6636\n",
      "Epoch 300, Loss: 0.6590\n",
      "Epoch 400, Loss: 0.6527\n",
      "Epoch 500, Loss: 0.6436\n",
      "Epoch 600, Loss: 0.6328\n",
      "Epoch 700, Loss: 0.6224\n",
      "Epoch 800, Loss: 0.6136\n",
      "Epoch 900, Loss: 0.6050\n",
      "Model weights and biases saved successfully at c:\\Users\\onuru\\Desktop\\Deep-Learning-Starter-Kit\\basics\\02_datapoint_classification\\trained_model_torch.pkl.\n"
     ]
    }
   ],
   "source": [
    "# Train torch NN\n",
    "torch.manual_seed(42)\n",
    "\n",
    "network = NN_torch(input_size, hidden1_size, hidden2_size, output_size, learning_rate=0.1)\n",
    "\n",
    "network.train_model(X,y,epochs=1000)"
   ]
  },
  {
   "cell_type": "code",
   "execution_count": null,
   "metadata": {},
   "outputs": [],
   "source": [
    "# Test hand-made NN \n",
    "from tester import ModelTester\n",
    "\n",
    "tester = ModelTester(input_size, hidden1_size, hidden2_size, output_size, draw_numbers=True)\n",
    "tester.load_model()\n",
    "tester.run_test()"
   ]
  },
  {
   "cell_type": "code",
   "execution_count": null,
   "metadata": {},
   "outputs": [],
   "source": [
    "# Test torch NN \n",
    "from tester import ModelTesterTorch\n",
    "\n",
    "tester_torch = ModelTesterTorch(input_size, hidden1_size, hidden2_size, output_size, draw_numbers=True)\n",
    "tester_torch.load_model()\n",
    "tester_torch.run_test()"
   ]
  }
 ],
 "metadata": {
  "kernelspec": {
   "display_name": "venv",
   "language": "python",
   "name": "python3"
  },
  "language_info": {
   "codemirror_mode": {
    "name": "ipython",
    "version": 3
   },
   "file_extension": ".py",
   "mimetype": "text/x-python",
   "name": "python",
   "nbconvert_exporter": "python",
   "pygments_lexer": "ipython3",
   "version": "3.10.9"
  }
 },
 "nbformat": 4,
 "nbformat_minor": 2
}
